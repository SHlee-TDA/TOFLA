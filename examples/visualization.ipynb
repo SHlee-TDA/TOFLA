{
 "cells": [
  {
   "cell_type": "code",
   "execution_count": 3,
   "metadata": {},
   "outputs": [
    {
     "name": "stdout",
     "output_type": "stream",
     "text": [
      "Downloading http://yann.lecun.com/exdb/mnist/train-images-idx3-ubyte.gz\n",
      "Downloading http://yann.lecun.com/exdb/mnist/train-images-idx3-ubyte.gz to ./data/MNIST/raw/train-images-idx3-ubyte.gz\n"
     ]
    },
    {
     "name": "stderr",
     "output_type": "stream",
     "text": [
      "9913344it [00:02, 3812902.38it/s]                             \n"
     ]
    },
    {
     "name": "stdout",
     "output_type": "stream",
     "text": [
      "Extracting ./data/MNIST/raw/train-images-idx3-ubyte.gz to ./data/MNIST/raw\n",
      "\n",
      "Downloading http://yann.lecun.com/exdb/mnist/train-labels-idx1-ubyte.gz\n",
      "Downloading http://yann.lecun.com/exdb/mnist/train-labels-idx1-ubyte.gz to ./data/MNIST/raw/train-labels-idx1-ubyte.gz\n"
     ]
    },
    {
     "name": "stderr",
     "output_type": "stream",
     "text": [
      "29696it [00:00, 7126740.95it/s]          "
     ]
    },
    {
     "name": "stdout",
     "output_type": "stream",
     "text": [
      "Extracting ./data/MNIST/raw/train-labels-idx1-ubyte.gz to ./data/MNIST/raw\n",
      "\n",
      "Downloading http://yann.lecun.com/exdb/mnist/t10k-images-idx3-ubyte.gz\n"
     ]
    },
    {
     "name": "stderr",
     "output_type": "stream",
     "text": [
      "\n"
     ]
    },
    {
     "name": "stdout",
     "output_type": "stream",
     "text": [
      "Downloading http://yann.lecun.com/exdb/mnist/t10k-images-idx3-ubyte.gz to ./data/MNIST/raw/t10k-images-idx3-ubyte.gz\n"
     ]
    },
    {
     "name": "stderr",
     "output_type": "stream",
     "text": [
      "1649664it [00:00, 3272712.80it/s]                            \n"
     ]
    },
    {
     "name": "stdout",
     "output_type": "stream",
     "text": [
      "Extracting ./data/MNIST/raw/t10k-images-idx3-ubyte.gz to ./data/MNIST/raw\n",
      "\n",
      "Downloading http://yann.lecun.com/exdb/mnist/t10k-labels-idx1-ubyte.gz\n",
      "Downloading http://yann.lecun.com/exdb/mnist/t10k-labels-idx1-ubyte.gz to ./data/MNIST/raw/t10k-labels-idx1-ubyte.gz\n"
     ]
    },
    {
     "name": "stderr",
     "output_type": "stream",
     "text": [
      "5120it [00:00, 32196156.64it/s]         "
     ]
    },
    {
     "name": "stdout",
     "output_type": "stream",
     "text": [
      "Extracting ./data/MNIST/raw/t10k-labels-idx1-ubyte.gz to ./data/MNIST/raw\n",
      "\n"
     ]
    },
    {
     "name": "stderr",
     "output_type": "stream",
     "text": [
      "\n",
      "/Users/shlee/miniforge3/envs/torch19/lib/python3.8/site-packages/torchvision/datasets/mnist.py:498: UserWarning: The given NumPy array is not writeable, and PyTorch does not support non-writeable tensors. This means you can write to the underlying (supposedly non-writeable) NumPy array using the tensor. You may want to copy the array to protect its data or make it writeable before converting it to a tensor. This type of warning will be suppressed for the rest of this program. (Triggered internally at  /tmp/pip-req-build-jhk0fkj8/torch/csrc/utils/tensor_numpy.cpp:180.)\n",
      "  return torch.from_numpy(parsed.astype(m[2], copy=False)).view(*s)\n"
     ]
    }
   ],
   "source": [
    "import sys\n",
    "sys.path.append('../')\n",
    "\n",
    "import torchvision\n",
    "import torchvision.transforms as transforms\n",
    "\n",
    "# 데이터셋을 위한 변환(transform) 정의\n",
    "transform = transforms.Compose([\n",
    "    transforms.ToTensor(),\n",
    "])\n",
    "\n",
    "# CIFAR-10 훈련 데이터셋 로드\n",
    "train_dataset = torchvision.datasets.MNIST(root='./data', train=True,\n",
    "                                             download=True, transform=transform)"
   ]
  },
  {
   "cell_type": "code",
   "execution_count": 6,
   "metadata": {},
   "outputs": [],
   "source": [
    "import torch\n",
    "images_only_dataset = [image for image, _ in train_dataset]\n",
    "dataset = torch.stack(images_only_dataset)"
   ]
  },
  {
   "cell_type": "code",
   "execution_count": 12,
   "metadata": {},
   "outputs": [
    {
     "data": {
      "text/plain": [
       "(28, 28)"
      ]
     },
     "execution_count": 12,
     "metadata": {},
     "output_type": "execute_result"
    }
   ],
   "source": [
    "img = dataset[0][0].numpy()\n",
    "img.shape"
   ]
  },
  {
   "cell_type": "code",
   "execution_count": 13,
   "metadata": {},
   "outputs": [
    {
     "data": {
      "text/plain": [
       "<matplotlib.image.AxesImage at 0x29a17b4c0>"
      ]
     },
     "execution_count": 13,
     "metadata": {},
     "output_type": "execute_result"
    },
    {
     "data": {
      "image/png": "[encoded data removed]",
      "text/plain": [
       "<Figure size 720x720 with 1 Axes>"
      ]
     },
     "metadata": {
      "needs_background": "light"
     },
     "output_type": "display_data"
    }
   ],
   "source": [
    "import matplotlib.pyplot as plt\n",
    "\n",
    "plt.figure(figsize=(10,10))\n",
    "plt.imshow(img, cmap = 'gray')"
   ]
  },
  {
   "cell_type": "code",
   "execution_count": 15,
   "metadata": {},
   "outputs": [],
   "source": [
    "import numpy as np\n",
    "def assign_unique_strict_order_to_pixels(image):\n",
    "    # Flatten the image and create a list of tuples (intensity, original_index)\n",
    "    flattened = [(val, idx) for idx, val in enumerate(image.flatten())]\n",
    "\n",
    "    # Sort based on intensity first, then the original index\n",
    "    sorted_flattened = sorted(flattened, key=lambda x: (x[0], x[1]))\n",
    "\n",
    "    # Create an array to store the unique strict order\n",
    "    unique_strict_order = np.zeros(len(flattened), dtype=int)\n",
    "\n",
    "    # Assign a unique strict order\n",
    "    for order, (_, original_index) in enumerate(sorted_flattened, start=1):\n",
    "        unique_strict_order[original_index] = order\n",
    "\n",
    "    # Reshape back to the original image shape\n",
    "    return unique_strict_order.reshape(image.shape)\n",
    "\n",
    "ordered_img = assign_unique_strict_order_to_pixels(img)"
   ]
  },
  {
   "cell_type": "code",
   "execution_count": 17,
   "metadata": {},
   "outputs": [],
   "source": [
    "def create_time_series_images(ordered_image, total_steps):\n",
    "    rows, cols = ordered_image.shape\n",
    "    time_series_images = np.zeros((rows, cols, total_steps), dtype=np.uint8)\n",
    "\n",
    "    for step in range(total_steps):\n",
    "        time_series_images[:, :, step] = (ordered_image <= step + 1).astype(np.uint8)\n",
    "\n",
    "    return time_series_images\n",
    "\n",
    "img_series = create_time_series_images(ordered_img, 28*28)"
   ]
  },
  {
   "cell_type": "code",
   "execution_count": 40,
   "metadata": {},
   "outputs": [
    {
     "data": {
      "image/png": "[encoded data removed]",
      "text/plain": [
       "<Figure size 1080x576 with 9 Axes>"
      ]
     },
     "metadata": {
      "needs_background": "light"
     },
     "output_type": "display_data"
    }
   ],
   "source": [
    "def overlay_original_with_alpha(original_image, time_series_images, steps, alpha=0.5):\n",
    "    plt.figure(figsize=(15, 8))\n",
    "    plt.subplot(3, 3, 1)\n",
    "    plt.imshow(original_image, cmap='gray', alpha=alpha)\n",
    "    plt.title(\"Original Image\")\n",
    "    plt.axis('off')\n",
    "\n",
    "    for i, step in enumerate(steps, start=1):\n",
    "        if i >= 9:  # Limiting to 9 subplots\n",
    "            break\n",
    "        overlaid_image = np.where(time_series_images[:, :, step] == 1, original_image.max(), 0)\n",
    "        plt.subplot(3, 3, i + 1)\n",
    "        plt.imshow(original_image, cmap='gray')\n",
    "        plt.imshow(overlaid_image, cmap='Reds', alpha=0.8)\n",
    "        plt.title(f\"Time Step: {step + 1}\")\n",
    "        plt.axis('off')\n",
    "\n",
    "    plt.tight_layout()\n",
    "    plt.show()\n",
    "\n",
    "overlay_original_with_alpha(img, img_series, [2, 100, 200, 500, 600, 700, 740, 782], alpha=0.5)"
   ]
  },
  {
   "cell_type": "code",
   "execution_count": 30,
   "metadata": {},
   "outputs": [],
   "source": [
    "from PIL import Image\n",
    "import io\n",
    "import numpy as np\n",
    "import matplotlib.pyplot as plt\n",
    "\n",
    "def create_gif_from_time_series_fixed(time_series_images, original_image, filename, duration=100, alpha=0.5):\n",
    "    frames = []\n",
    "    \n",
    "    for i in range(time_series_images.shape[2]):\n",
    "        # Extract the current time step image\n",
    "        current_step_image = time_series_images[:, :, i]\n",
    "\n",
    "        # Create an overlay image for the current time step\n",
    "        highlighted_image = np.where(current_step_image == 1, 255, 0).astype(np.uint8)\n",
    "\n",
    "        # Convert to PIL Image for both original and highlighted image\n",
    "        pil_original = Image.fromarray(original_image).convert(\"RGBA\")\n",
    "        pil_highlighted = Image.fromarray(highlighted_image).convert(\"RGBA\")\n",
    "\n",
    "        # Apply alpha blending\n",
    "        blended_image = Image.blend(pil_original, pil_highlighted, alpha=alpha)\n",
    "\n",
    "        # Convert to RGB and append to frames\n",
    "        frames.append(blended_image.convert(\"RGB\"))\n",
    "\n",
    "    # Save the frames as a GIF\n",
    "    frames[0].save(filename, save_all=True, append_images=frames[1:], optimize=False, duration=duration, loop=0)\n",
    "\n",
    "# Create a GIF from the time series images\n",
    "gif = create_gif_from_time_series_fixed(img_series, img, 'test.gif')\n",
    "\n"
   ]
  },
  {
   "cell_type": "code",
   "execution_count": 31,
   "metadata": {},
   "outputs": [],
   "source": [
    "gif"
   ]
  },
  {
   "cell_type": "code",
   "execution_count": 42,
   "metadata": {},
   "outputs": [
    {
     "ename": "TypeError",
     "evalue": "'module' object is not callable",
     "output_type": "error",
     "traceback": [
      "\u001b[0;31m---------------------------------------------------------------------------\u001b[0m",
      "\u001b[0;31mTypeError\u001b[0m                                 Traceback (most recent call last)",
      "\u001b[1;32m/Users/shlee/Library/CloudStorage/OneDrive-postech.ac.kr/codes/TDA/TOFLA/examples/visualization.ipynb 셀 10\u001b[0m line \u001b[0;36m<module>\u001b[0;34m\u001b[0m\n\u001b[1;32m      <a href='vscode-notebook-cell:/Users/shlee/Library/CloudStorage/OneDrive-postech.ac.kr/codes/TDA/TOFLA/examples/visualization.ipynb#X12sZmlsZQ%3D%3D?line=0'>1</a>\u001b[0m \u001b[39mimport\u001b[39;00m \u001b[39mgudhi\u001b[39;00m \u001b[39mas\u001b[39;00m \u001b[39mgd\u001b[39;00m\n\u001b[0;32m----> <a href='vscode-notebook-cell:/Users/shlee/Library/CloudStorage/OneDrive-postech.ac.kr/codes/TDA/TOFLA/examples/visualization.ipynb#X12sZmlsZQ%3D%3D?line=2'>3</a>\u001b[0m gd\u001b[39m.\u001b[39;49msklearn\u001b[39m.\u001b[39;49mcubical_persistence(img[:])\n",
      "\u001b[0;31mTypeError\u001b[0m: 'module' object is not callable"
     ]
    }
   ],
   "source": [
    "import gudhi as gd\n",
    "\n"
   ]
  },
  {
   "cell_type": "code",
   "execution_count": null,
   "metadata": {},
   "outputs": [],
   "source": []
  }
 ],
 "metadata": {
  "kernelspec": {
   "display_name": "torch19",
   "language": "python",
   "name": "python3"
  },
  "language_info": {
   "codemirror_mode": {
    "name": "ipython",
    "version": 3
   },
   "file_extension": ".py",
   "mimetype": "text/x-python",
   "name": "python",
   "nbconvert_exporter": "python",
   "pygments_lexer": "ipython3",
   "version": "3.8.12"
  }
 },
 "nbformat": 4,
 "nbformat_minor": 2
}
